{
 "cells": [
  {
   "cell_type": "markdown",
   "id": "e51f3ea0-5afa-4c53-909f-cfbcc51164f0",
   "metadata": {},
   "source": [
    "# Coursera_Capstone"
   ]
  },
  {
   "cell_type": "markdown",
   "id": "d6ba72ef-f0d4-49be-9dda-b80793553698",
   "metadata": {},
   "source": [
    "## this notebook will be used for the  coursera IBM Applied data science capstone project."
   ]
  },
  {
   "cell_type": "code",
   "execution_count": 2,
   "id": "326291cd-c4c4-4e42-a11d-b406b4db2a69",
   "metadata": {},
   "outputs": [],
   "source": [
    "import pandas as pd\n",
    "import numpy as np"
   ]
  },
  {
   "cell_type": "code",
   "execution_count": 3,
   "id": "e35e4854-c8b8-4576-95a8-8fe2b62fc83b",
   "metadata": {},
   "outputs": [
    {
     "name": "stdout",
     "output_type": "stream",
     "text": [
      "Hello Capstone Project Course!\n"
     ]
    }
   ],
   "source": [
    "print(\"Hello Capstone Project Course!\")"
   ]
  },
  {
   "cell_type": "code",
   "execution_count": null,
   "id": "505b77bd-cb18-4c1c-80bb-a897cfc3da5a",
   "metadata": {},
   "outputs": [],
   "source": []
  }
 ],
 "metadata": {
  "kernelspec": {
   "display_name": "Python 3",
   "language": "python",
   "name": "python3"
  },
  "language_info": {
   "codemirror_mode": {
    "name": "ipython",
    "version": 3
   },
   "file_extension": ".py",
   "mimetype": "text/x-python",
   "name": "python",
   "nbconvert_exporter": "python",
   "pygments_lexer": "ipython3",
   "version": "3.8.8"
  }
 },
 "nbformat": 4,
 "nbformat_minor": 5
}
